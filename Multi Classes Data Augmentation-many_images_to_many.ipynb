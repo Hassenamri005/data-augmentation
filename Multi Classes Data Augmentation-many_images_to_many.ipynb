{
 "cells": [
  {
   "cell_type": "markdown",
   "id": "cbdee95b",
   "metadata": {},
   "source": [
    "# Multi Classes Data Augmentation - Many Images to Many Images"
   ]
  },
  {
   "cell_type": "code",
   "execution_count": 2,
   "id": "e40ed9b4",
   "metadata": {},
   "outputs": [],
   "source": [
    "from keras.preprocessing.image import ImageDataGenerator"
   ]
  },
  {
   "cell_type": "code",
   "execution_count": 3,
   "id": "7f76e788",
   "metadata": {},
   "outputs": [],
   "source": [
    "import cv2\n",
    "import numpy as np"
   ]
  },
  {
   "cell_type": "markdown",
   "id": "6782824d",
   "metadata": {},
   "source": [
    "## 1.Creating the augmentation properties"
   ]
  },
  {
   "cell_type": "code",
   "execution_count": 13,
   "id": "68509701",
   "metadata": {},
   "outputs": [],
   "source": [
    "datagen = ImageDataGenerator(rotation_range = 40,\n",
    "                            width_shift_range = 0.2,\n",
    "                            height_shift_range = 0.2,\n",
    "                            shear_range = 0.2,\n",
    "                            zoom_range = 0.2,\n",
    "                            horizontal_flip = True,\n",
    "                            fill_mode = 'nearest')"
   ]
  },
  {
   "cell_type": "markdown",
   "id": "8c0fc71c",
   "metadata": {},
   "source": [
    "## 2.Create ( 10*batchsize ) new images from a given folder"
   ]
  },
  {
   "cell_type": "markdown",
   "id": "24cb73a3",
   "metadata": {},
   "source": [
    "### batch_size=1 : number of entries images every augmentation\n",
    "### target_size=(250,250) : change the width and height of augmented images\n",
    "### color_mode='rgb' : \"rgb, grayscale, ...\" : the color of augmented images"
   ]
  },
  {
   "cell_type": "code",
   "execution_count": 16,
   "id": "25dc38ba",
   "metadata": {},
   "outputs": [
    {
     "name": "stdout",
     "output_type": "stream",
     "text": [
      "Found 2 images belonging to 2 classes.\n"
     ]
    }
   ],
   "source": [
    "\n",
    "i = 0\n",
    "for batch in datagen.flow_from_directory(directory='dataset/train',\n",
    "                                        batch_size=1,\n",
    "                                        target_size=(250,250),\n",
    "                                        color_mode='rgb',\n",
    "                                        save_to_dir='AugDataset',\n",
    "                                        save_prefix='aug',\n",
    "                                        save_format='jpg'):\n",
    "    i+=1\n",
    "    if i>10: break"
   ]
  }
 ],
 "metadata": {
  "kernelspec": {
   "display_name": "Python 3 (ipykernel)",
   "language": "python",
   "name": "python3"
  },
  "language_info": {
   "codemirror_mode": {
    "name": "ipython",
    "version": 3
   },
   "file_extension": ".py",
   "mimetype": "text/x-python",
   "name": "python",
   "nbconvert_exporter": "python",
   "pygments_lexer": "ipython3",
   "version": "3.8.11"
  }
 },
 "nbformat": 4,
 "nbformat_minor": 5
}
